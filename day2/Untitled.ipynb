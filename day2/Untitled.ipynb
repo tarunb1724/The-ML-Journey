{
 "cells": [
  {
   "cell_type": "markdown",
   "id": "5adecd9a-f0f5-4b62-9ae2-77428b4e265c",
   "metadata": {},
   "source": [
    "### ✅ Day 2: Data Structures  \n",
    "- Lists, Tuples, Sets, Dictionaries  \n",
    "- Indexing, slicing, and methods  \n",
    "- 📝 **Practice**: Create a dictionary of students & marks, print topper.  \n"
   ]
  },
  {
   "cell_type": "markdown",
   "id": "4d76c811-50ee-4cfa-8145-556606ce6388",
   "metadata": {},
   "source": [
    "## Lists[ ]\n",
    " * **Ordered**\n",
    " * **Mutable(changeable) collection of items**\n",
    " * **Mixed Datatypes - numbers,strings,nested or other lists**\n",
    " * **Stored within Square brackets[]**     "
   ]
  },
  {
   "cell_type": "code",
   "execution_count": 18,
   "id": "b1be1b0e-ca7f-4ccf-a9a6-bde9567a9169",
   "metadata": {},
   "outputs": [
    {
     "name": "stdout",
     "output_type": "stream",
     "text": [
      "[1, 2, 3, 'be consistent']\n"
     ]
    }
   ],
   "source": [
    "mylist=[1,2,3,'be consistent']\n",
    "print(mylist)"
   ]
  },
  {
   "cell_type": "code",
   "execution_count": 4,
   "id": "a341b0ff-06d4-4607-b736-ad3985f5f233",
   "metadata": {},
   "outputs": [],
   "source": [
    "empty_list = []\n",
    "numbers = [1, 2, 3, 4, 5]\n",
    "mixed = [1, \"apple\", True, 3.14]\n",
    "nested = [[1, 2], [3, 4]]\n"
   ]
  },
  {
   "cell_type": "code",
   "execution_count": 8,
   "id": "9bc59cfa-29c6-47e8-a523-3f85f54051f7",
   "metadata": {},
   "outputs": [
    {
     "name": "stdout",
     "output_type": "stream",
     "text": [
      "10\n",
      "50\n",
      "[20, 30, 40]\n",
      "After i modified nums : [10, 200, 30, 40, 50]\n"
     ]
    }
   ],
   "source": [
    "nums = [10, 20, 30, 40, 50]\n",
    "\n",
    "print(nums[0])   #first element → 10\n",
    "print(nums[-1])  #last element → 50\n",
    "print(nums[1:4]) #slicing → [20, 30, 40] include 1st element and excludes 4th element in this example\n",
    "nums[1] = 200   # change value or modify\n",
    "print('After i modified nums :',nums)"
   ]
  },
  {
   "cell_type": "code",
   "execution_count": 9,
   "id": "692c3558-8397-4604-ad26-20ce532dd4aa",
   "metadata": {},
   "outputs": [
    {
     "name": "stdout",
     "output_type": "stream",
     "text": [
      "[1, 10, 2, 3, 4, 5, 6]\n"
     ]
    }
   ],
   "source": [
    "nums = [1, 2, 3]\n",
    "nums.append(4)       #add at end\n",
    "nums.insert(1, 10)   #insert at index 1 with value of 10\n",
    "nums.extend([5, 6])  #extend with another list at the end of nums list\n",
    "print(nums)          #[1, 10, 2, 3, 4, 5, 6]"
   ]
  },
  {
   "cell_type": "markdown",
   "id": "f18504f4-7bd2-459e-8e8b-89d42b4799f3",
   "metadata": {},
   "source": [
    "* Its better to know some common list methods that we use "
   ]
  },
  {
   "cell_type": "code",
   "execution_count": 16,
   "id": "a1d9f606-1c7d-45e2-a397-da1c37c675f6",
   "metadata": {},
   "outputs": [
    {
     "name": "stdout",
     "output_type": "stream",
     "text": [
      "5\n",
      "2\n",
      "2\n",
      "[10, 20, 20, 30, 40]\n",
      "[40, 30, 20, 20, 10]\n"
     ]
    }
   ],
   "source": [
    "nums = [10, 20, 30, 40, 20]\n",
    "print(len(nums))        #length → 5\n",
    "print(nums.count(20))   #frequency of 20 is 2\n",
    "print(nums.index(30))   #index of 30 is 2\n",
    "nums.sort()             #sort ascending By default\n",
    "print(nums)\n",
    "nums.reverse()          #reverse the list\n",
    "print(nums)"
   ]
  },
  {
   "cell_type": "markdown",
   "id": "a50f2bf4-eed7-4abb-845a-b0e1fc016aa1",
   "metadata": {},
   "source": [
    "## Tuples()\n",
    "* **Ordered**\n",
    "* **Immutable**\n",
    "*  **Mixed Datatypes**\n",
    "*  **Faster than lists**\n",
    "*   **Hashable, can be used as dictionary keys**"
   ]
  },
  {
   "cell_type": "code",
   "execution_count": 20,
   "id": "f764be57-d1ef-40c7-9a8d-9c9798312174",
   "metadata": {},
   "outputs": [
    {
     "name": "stdout",
     "output_type": "stream",
     "text": [
      "(1, 2, 3, 'Be consistent ', 4.5)\n"
     ]
    }
   ],
   "source": [
    "mytuple = (1, 2, 3, \"Be consistent \", 4.5)\n",
    "print(mytuple)"
   ]
  },
  {
   "cell_type": "code",
   "execution_count": 21,
   "id": "95319b18-ffd6-4cef-81d8-9adc7d969cc6",
   "metadata": {},
   "outputs": [],
   "source": [
    "empty_tuple = ()\n",
    "single_element = (5,)   # need comma for single element\n",
    "numbers = (1, 2, 3, 4, 5)\n",
    "mixed = (1, \"hello\", True, 3.14)\n",
    "nested = ((1, 2), (3, 4))"
   ]
  },
  {
   "cell_type": "code",
   "execution_count": 23,
   "id": "fb51707e-3e89-44e6-ae31-25caadc45e16",
   "metadata": {},
   "outputs": [
    {
     "name": "stdout",
     "output_type": "stream",
     "text": [
      "10\n",
      "40\n",
      "(20, 30)\n"
     ]
    }
   ],
   "source": [
    "nums = (10, 20, 30, 40)\n",
    "\n",
    "print(nums[0])    # first element is 10\n",
    "print(nums[-1])   # last element is 40\n",
    "print(nums[1:3])  # slicing is (20, 30)"
   ]
  },
  {
   "cell_type": "code",
   "execution_count": 24,
   "id": "50ed3430-67cf-4a1a-aeb2-bc47dcd8fddf",
   "metadata": {},
   "outputs": [
    {
     "name": "stdout",
     "output_type": "stream",
     "text": [
      "5\n",
      "2\n",
      "2\n"
     ]
    }
   ],
   "source": [
    "nums = (10, 20, 30, 20, 40)\n",
    "\n",
    "print(len(nums))        # length is 5\n",
    "print(nums.count(20))   # frequency of 20 is 2\n",
    "print(nums.index(30))   # index of 30 is 2"
   ]
  },
  {
   "cell_type": "code",
   "execution_count": 25,
   "id": "427945d8-c481-415f-bd05-51f300c807c3",
   "metadata": {},
   "outputs": [
    {
     "name": "stdout",
     "output_type": "stream",
     "text": [
      "apple\n",
      "banana\n",
      "cherry\n"
     ]
    }
   ],
   "source": [
    "fruits = (\"apple\", \"banana\", \"cherry\")\n",
    "\n",
    "a, b, c = fruits\n",
    "print(a)  # apple\n",
    "print(b)  # banana\n",
    "print(c)  # cherry\n"
   ]
  },
  {
   "cell_type": "code",
   "execution_count": 28,
   "id": "a1b74188-1b41-487c-a709-e93cbd421a65",
   "metadata": {},
   "outputs": [
    {
     "name": "stdout",
     "output_type": "stream",
     "text": [
      "Tarun is 25 years old\n",
      "bits is 30 years old\n"
     ]
    }
   ],
   "source": [
    "nested = ((\"Tarun\", 25), (\"bits\", 30))\n",
    "\n",
    "for name, age in nested:\n",
    "    print(f\"{name} is {age} years old\")"
   ]
  },
  {
   "cell_type": "code",
   "execution_count": 28,
   "id": "57bd6bbb-9cdc-405b-ab97-ce45bc617816",
   "metadata": {},
   "outputs": [
    {
     "name": "stdout",
     "output_type": "stream",
     "text": [
      "Tarun is 25 years old\n",
      "bits is 30 years old\n"
     ]
    }
   ],
   "source": [
    "nested = ((\"Tarun\", 25), (\"bits\", 30))\n",
    "\n",
    "for name, age in nested:\n",
    "    print(f\"{name} is {age} years old\")"
   ]
  },
  {
   "cell_type": "code",
   "execution_count": 28,
   "id": "a0a0088b-7f57-4da6-b081-6e97ae25ac7e",
   "metadata": {},
   "outputs": [
    {
     "name": "stdout",
     "output_type": "stream",
     "text": [
      "Tarun is 25 years old\n",
      "bits is 30 years old\n"
     ]
    }
   ],
   "source": [
    "nested = ((\"Tarun\", 25), (\"bits\", 30))\n",
    "\n",
    "for name, age in nested:\n",
    "    print(f\"{name} is {age} years old\")"
   ]
  },
  {
   "cell_type": "markdown",
   "id": "f5ae456d-bac2-4e10-9c57-988f5dda4460",
   "metadata": {},
   "source": [
    "## Sets\n",
    "* **Unordered**\n",
    "* **Unique**\n",
    "* **Mutable**"
   ]
  },
  {
   "cell_type": "code",
   "execution_count": null,
   "id": "fb0d9f66-249f-4962-84c1-1f40a06f3d5f",
   "metadata": {},
   "outputs": [],
   "source": [
    "empty_set = set()           # correct way\n",
    "wrong_set = {}              # its wrong creates a dictionary, not set\n",
    "\n",
    "my_set = {1, 2, 3, 4}\n",
    "mixed = {1, \"apple\", True, 3.14}\n"
   ]
  },
  {
   "cell_type": "code",
   "execution_count": 1,
   "id": "a10c12d5-22aa-4738-bd87-e08602520b1b",
   "metadata": {},
   "outputs": [],
   "source": [
    "empty_set = set()           # ✅ correct way\n",
    "wrong_set = {}              # ❌ creates a dictionary, not set\n",
    "numbers = {1, 2, 3, 4, 4}   # duplicates will be removed automatically  {1, 2, 3, 4}\n",
    "mixed = {1, \"apple\", True, 3.14}\n"
   ]
  },
  {
   "cell_type": "code",
   "execution_count": 2,
   "id": "387b0860-35d8-44b9-a0d6-ad018bb351b0",
   "metadata": {},
   "outputs": [],
   "source": [
    "nums = {1, 2, 3}\n",
    "#We are adding and removing elements using built in methods\n",
    "nums.add(4)       # add one element\n",
    "nums.update([5,6])# add multiple elements\n",
    "nums.remove(2)    # remove element (error if not found)\n",
    "nums.discard(10)  # remove element (no error if not found)\n",
    "nums.pop()        # remove random element\n",
    "nums.clear()      # empty the set\n"
   ]
  },
  {
   "cell_type": "code",
   "execution_count": 4,
   "id": "70ba6c91-443a-43dc-8ca8-2ce3908057af",
   "metadata": {},
   "outputs": [
    {
     "name": "stdout",
     "output_type": "stream",
     "text": [
      "{1, 2, 3, 4, 5, 6}\n",
      "{3, 4}\n",
      "{1, 2}\n",
      "{1, 2, 5, 6}\n"
     ]
    }
   ],
   "source": [
    "A = {1, 2, 3, 4}\n",
    "B = {3, 4, 5, 6}\n",
    "\n",
    "print(A | B)   # or print(A.union(B)) can be used,  union - {1,2,3,4,5,6}\n",
    "print(A & B)   # or print(A.intersection(B)) can be used,  intersection - {3,4}\n",
    "print(A - B)   # or print(A.difference(B)) can be used,  difference - {1,2} \n",
    "print(A ^ B)   # or print(A.symmetric_difference(B) can be used, symmetric difference - {1,2,5,6} (Union - Intersection)"
   ]
  },
  {
   "cell_type": "markdown",
   "id": "62379f31-0dd6-4958-a1cd-d7a0a8e11475",
   "metadata": {},
   "source": [
    "> **Cornerstone** :Sets are widely used in data cleaning for ML (removing duplicate values from datasets).\n"
   ]
  },
  {
   "cell_type": "markdown",
   "id": "8a70b009-34e5-440c-8a96-5f4afa1b0338",
   "metadata": {},
   "source": [
    "## Dictionary \n",
    "* **Mutable**\n",
    "* **Unordered**\n",
    "* **Unique**\n",
    "* **Keys must be immutable**\n",
    "* **Dynamic**\n",
    "  "
   ]
  },
  {
   "cell_type": "code",
   "execution_count": 9,
   "id": "0378b18a-8760-49d1-bf25-f662df07f028",
   "metadata": {},
   "outputs": [],
   "source": [
    "student = {\n",
    "    \"name\": \"Tarun\",\n",
    "    \"age\": 24,\n",
    "    \"marks\": [85, 90, 92]\n",
    "}"
   ]
  },
  {
   "cell_type": "code",
   "execution_count": 10,
   "id": "ab8b362a-260a-4fca-bbfd-73d8f7926f96",
   "metadata": {},
   "outputs": [
    {
     "name": "stdout",
     "output_type": "stream",
     "text": [
      "Tarun\n",
      "24\n",
      "NA\n",
      "{'name': 'Tarun', 'age': 23, 'marks': [85, 90, 92]}\n"
     ]
    }
   ],
   "source": [
    "#Accessing \n",
    "print(student[\"name\"])      # Tarun\n",
    "print(student.get(\"age\"))   # 24\n",
    "print(student.get(\"grade\", \"NA\"))  # NA (safe access)\n",
    "\n",
    "# Update\n",
    "student[\"age\"] = 23\n",
    "print(student)  \n",
    "# {'name': 'tarun', 'age': 23, 'marks': [85, 90, 92]}\n",
    "\n"
   ]
  },
  {
   "cell_type": "code",
   "execution_count": 11,
   "id": "cbc40963-ebcd-45f3-9b8e-68584b81a280",
   "metadata": {},
   "outputs": [
    {
     "name": "stdout",
     "output_type": "stream",
     "text": [
      "dict_keys(['name', 'age', 'marks'])\n",
      "dict_values(['Tarun', 23, [85, 90, 92]])\n",
      "dict_items([('name', 'Tarun'), ('age', 23), ('marks', [85, 90, 92])])\n"
     ]
    }
   ],
   "source": [
    "print(student.keys())    # dict_keys(['name', 'age', 'marks'])\n",
    "print(student.values())  # dict_values(['Tarun', 23, [85, 90, 92]])\n",
    "print(student.items())  "
   ]
  },
  {
   "cell_type": "code",
   "execution_count": 12,
   "id": "df507c94-73c4-4a1b-a78c-95be61c710be",
   "metadata": {},
   "outputs": [
    {
     "name": "stdout",
     "output_type": "stream",
     "text": [
      "{'name': 'Tarun', 'marks': [85, 90, 92]}\n",
      "{'name': 'Tarun'}\n"
     ]
    }
   ],
   "source": [
    "student.pop(\"age\")    \n",
    "print(student)  \n",
    "# {'name': 'Tarun', 'marks': [85, 90, 92], 'grade': 'A'}\n",
    "\n",
    "student.popitem()  \n",
    "print(student)  \n",
    "# randomly removes last key - {'name': 'Tarun', 'marks': [85, 90, 92]}\n"
   ]
  },
  {
   "cell_type": "code",
   "execution_count": 16,
   "id": "5d26b47d-9d0a-4853-b0de-7638c7cde1da",
   "metadata": {},
   "outputs": [
    {
     "name": "stdout",
     "output_type": "stream",
     "text": [
      "{'name': 'Tarun', 'city': 'Delhi'}\n"
     ]
    }
   ],
   "source": [
    "#insert if missing\n",
    "student.setdefault(\"city\", \"Delhi\")\n",
    "print(student)  \n",
    "# {'name': 'Tarun', 'marks': [85, 90, 92], 'city': 'Delhi'}\n"
   ]
  },
  {
   "cell_type": "code",
   "execution_count": 17,
   "id": "fe32b488-fd9c-4a5a-ae31-d75dd59b4c04",
   "metadata": {},
   "outputs": [
    {
     "name": "stdout",
     "output_type": "stream",
     "text": [
      "{'a': 0, 'b': 0, 'c': 0}\n"
     ]
    }
   ],
   "source": [
    "# init dictionary\n",
    "keys = [\"a\", \"b\", \"c\"]\n",
    "d = dict.fromkeys(keys, 0)\n",
    "print(d)   # {'a': 0, 'b': 0, 'c': 0}"
   ]
  },
  {
   "cell_type": "code",
   "execution_count": 19,
   "id": "b20f3088-c936-41b7-9f78-7537741aeff8",
   "metadata": {},
   "outputs": [
    {
     "name": "stdout",
     "output_type": "stream",
     "text": [
      "{0: 0, 1: 1, 2: 4, 3: 9, 4: 16}\n"
     ]
    }
   ],
   "source": [
    "# Dictionary Comprehension\n",
    "squares = {x: x**2 for x in range(5)}\n",
    "print(squares) \n",
    "# {0: 0, 1: 1, 2: 4, 3: 9, 4: 16}"
   ]
  },
  {
   "cell_type": "markdown",
   "id": "306e3255-c956-405a-8c50-5cb36444ac91",
   "metadata": {},
   "source": [
    "> **Cornerstone** : To Store model configs, Dataset records, map features to encoding, count word frequencies"
   ]
  },
  {
   "cell_type": "code",
   "execution_count": null,
   "id": "074e4287-1da1-44dd-bb9c-f6a6433c0917",
   "metadata": {},
   "outputs": [],
   "source": []
  }
 ],
 "metadata": {
  "kernelspec": {
   "display_name": "Python 3 (ipykernel)",
   "language": "python",
   "name": "python3"
  },
  "language_info": {
   "codemirror_mode": {
    "name": "ipython",
    "version": 3
   },
   "file_extension": ".py",
   "mimetype": "text/x-python",
   "name": "python",
   "nbconvert_exporter": "python",
   "pygments_lexer": "ipython3",
   "version": "3.10.0"
  }
 },
 "nbformat": 4,
 "nbformat_minor": 5
}
