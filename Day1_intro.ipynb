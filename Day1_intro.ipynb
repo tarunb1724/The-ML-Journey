{
 "cells": [
  {
   "cell_type": "markdown",
   "id": "2cbe408c-f3e7-457d-9b01-a35a2d3185cb",
   "metadata": {},
   "source": [
    "# Day 1: Python Essentials for ML\n",
    "Today I will set up my Python ML environment and revise the most important basics:\n",
    "- Printing & comments\n",
    "- Variables and types\n",
    "- Input & output\n",
    "- Basic operators"
   ]
  },
  {
   "cell_type": "code",
   "execution_count": 4,
   "id": "fd434cd0-6e62-4c72-96a0-541391086efe",
   "metadata": {},
   "outputs": [
    {
     "name": "stdout",
     "output_type": "stream",
     "text": [
      "Hello, Machine Learning!\n"
     ]
    }
   ],
   "source": [
    "print(\"Hello, Machine Learning!\")  # Inline comment\n"
   ]
  },
  {
   "cell_type": "code",
   "execution_count": 6,
   "id": "8ba88325-fcff-4da6-b8c4-db73e3855f98",
   "metadata": {},
   "outputs": [
    {
     "name": "stdout",
     "output_type": "stream",
     "text": [
      "<class 'int'> <class 'float'> <class 'str'> <class 'bool'>\n"
     ]
    }
   ],
   "source": [
    "# There are Different data types in python\n",
    "x = 10           #integer\n",
    "y = 3.14         #float\n",
    "name = \"Tarun\"   #string\n",
    "is_ml_fun = True #boolean\n",
    "\n",
    "print(type(x), type(y), type(name), type(is_ml_fun))"
   ]
  },
  {
   "cell_type": "code",
   "execution_count": 8,
   "id": "e1ac7db7-e9e7-4b74-b1c1-98249f15eb08",
   "metadata": {},
   "outputs": [
    {
     "name": "stdout",
     "output_type": "stream",
     "text": [
      "a + b = 9\n",
      "a - b = 5\n",
      "a * b = 14\n",
      "a / b = 3.5\n",
      "a // b = 3\n",
      "a % b = 1\n",
      "a ** b = 49\n"
     ]
    }
   ],
   "source": [
    "# Arithmetic\n",
    "a, b = 7, 2\n",
    "print(\"a + b =\", a + b)   #add\n",
    "print(\"a - b =\", a - b)   #Sub\n",
    "print(\"a * b =\", a * b)   #mul\n",
    "print(\"a / b =\", a / b)   #float div\n",
    "print(\"a // b =\", a // b) #floor div\n",
    "print(\"a % b =\", a % b)   #modulus\n",
    "print(\"a ** b =\", a ** b) #power\n"
   ]
  },
  {
   "cell_type": "code",
   "execution_count": 9,
   "id": "01f5656c-e58b-42f9-af34-bb78601f84ac",
   "metadata": {},
   "outputs": [
    {
     "name": "stdout",
     "output_type": "stream",
     "text": [
      "My ML score is 95/100\n"
     ]
    }
   ],
   "source": [
    "# user_name = input(\"Enter your name: \")\n",
    "# print(\"Hello,\", user_name)\n",
    "\n",
    "# Formatting output\n",
    "score = 95\n",
    "print(f\"My ML score is {score}/100\")   # f-string\n"
   ]
  },
  {
   "cell_type": "markdown",
   "id": "2ecc05ba-f42f-4ab7-8352-beee0379d2a5",
   "metadata": {},
   "source": [
    "### ✅ Practice Tasks\n",
    "3. Write a program that asks for two numbers and prints their sum, difference, and product.\n"
   ]
  },
  {
   "cell_type": "code",
   "execution_count": 17,
   "id": "8e2fffb7-63da-4ab9-9030-1a426f1c0c4b",
   "metadata": {},
   "outputs": [
    {
     "name": "stdout",
     "output_type": "stream",
     "text": [
      "I'm Tarun, my age is:24, height is 168, city is Hyderabad\n"
     ]
    }
   ],
   "source": [
    "#1. Create 3 variables: your age, height, and city. Print them with a formatted sentence.\n",
    "\n",
    "age=24\n",
    "Height=168\n",
    "city='Hyderabad'\n",
    "print(f\"I'm Tarun, my age is:{age}, height is {Height}, city is {city}\")"
   ]
  },
  {
   "cell_type": "code",
   "execution_count": 16,
   "id": "8667a210-dc59-421e-8d37-c1c4a482eafc",
   "metadata": {},
   "outputs": [
    {
     "name": "stdin",
     "output_type": "stream",
     "text": [
      "enter radius of circle 10\n"
     ]
    },
    {
     "name": "stdout",
     "output_type": "stream",
     "text": [
      "Area for given radius of circle: 314.159\n"
     ]
    }
   ],
   "source": [
    "#2. Calculate the area of a circle (radius = 7). Use `pi = 3.14159`.\n",
    "\n",
    "pi=3.14159\n",
    "radii=int(input('enter radius of circle'))\n",
    "area=pi*radii**2\n",
    "print(f'Area for given radius of circle: {area}')\n"
   ]
  },
  {
   "cell_type": "code",
   "execution_count": 18,
   "id": "2c74b4a2-12ce-4e23-a4e9-037ba7381fe4",
   "metadata": {},
   "outputs": [
    {
     "name": "stdin",
     "output_type": "stream",
     "text": [
      "Enter first number:  4\n",
      "Enter second number:  5\n"
     ]
    },
    {
     "name": "stdout",
     "output_type": "stream",
     "text": [
      "Sum: 9.0\n",
      "Difference: -1.0\n",
      "Product: 20.0\n"
     ]
    }
   ],
   "source": [
    "#3. Write a program that asks for two numbers and prints their sum, difference, and product.\n",
    "\n",
    "num1 = float(input(\"Enter first number: \"))\n",
    "num2 = float(input(\"Enter second number: \"))\n",
    "\n",
    "sum_result = num1 + num2\n",
    "difference = num1 - num2\n",
    "product = num1 * num2\n",
    "\n",
    "print(f\"Sum: {sum_result}\")\n",
    "print(f\"Difference: {difference}\")\n",
    "print(f\"Product: {product}\")"
   ]
  },
  {
   "cell_type": "markdown",
   "id": "734fb4ed-d1ba-4210-8e9c-c39349948f2b",
   "metadata": {},
   "source": [
    "### What I learned today:\n",
    "- Printing and writing comments\n",
    "- Variables & data types\n",
    "- Operators\n",
    "- Taking input & formatting output\n"
   ]
  },
  {
   "cell_type": "code",
   "execution_count": null,
   "id": "73c030b7-760b-4820-940a-4caa996bb9f1",
   "metadata": {},
   "outputs": [],
   "source": []
  }
 ],
 "metadata": {
  "kernelspec": {
   "display_name": "Python 3 (ipykernel)",
   "language": "python",
   "name": "python3"
  },
  "language_info": {
   "codemirror_mode": {
    "name": "ipython",
    "version": 3
   },
   "file_extension": ".py",
   "mimetype": "text/x-python",
   "name": "python",
   "nbconvert_exporter": "python",
   "pygments_lexer": "ipython3",
   "version": "3.10.0"
  }
 },
 "nbformat": 4,
 "nbformat_minor": 5
}
